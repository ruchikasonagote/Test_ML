{
 "cells": [
  {
   "cell_type": "code",
   "execution_count": 73,
   "id": "4858b75e-f796-4c43-b287-d0ad373e42c2",
   "metadata": {},
   "outputs": [],
   "source": [
    "import numpy as np\n",
    "import pandas as pd\n",
    "import jax\n",
    "import jax.numpy as jnp\n",
    "import random\n",
    "import time\n",
    "import sympy as sp\n",
    "import matplotlib.pyplot as plt\n",
    "import timeit"
   ]
  },
  {
   "cell_type": "markdown",
   "id": "f25306ac-6e4b-415d-9595-7a6869a2a9d0",
   "metadata": {},
   "source": [
    "Q.1"
   ]
  },
  {
   "cell_type": "raw",
   "id": "0dd2f22f-89c4-4854-a0b3-7c353928d82c",
   "metadata": {},
   "source": [
    "number of multiplications = n*k*m\n",
    "number of additions = n*(k-1)*m\n",
    "\n",
    "Explanation:\n",
    "\n",
    "For matrix A(n,k) and matrix B(k,m),\n",
    "\n",
    "In a row of matrix A, there are k columns which has to multiplied by k rows in each column of matrix B. There are m columns in B, so for each row in A, there are k*m multiplications, so in total for n rows in A, there will be n*k*m multiplications.\n",
    "\n",
    "In each row of A, there are k elements implies (k-1) additions for each column in B, there are m columns in B, so (k-1)*m additions for each row of A. There are n rows in A, so n*(k-1)*m total additions\n"
   ]
  },
  {
   "cell_type": "markdown",
   "id": "1fd7d407-6e60-4dfb-b750-9172e6ba7817",
   "metadata": {},
   "source": [
    "Q.2"
   ]
  },
  {
   "cell_type": "code",
   "execution_count": 2,
   "id": "93ec43eb-1865-454c-8f05-c0f0639d629a",
   "metadata": {},
   "outputs": [
    {
     "name": "stdout",
     "output_type": "stream",
     "text": [
      "[[3, 6, 5, 9], [6, 8, 4, 1], [4, 3, 2, 6]]\n",
      "[[8, 7], [2, 1], [6, 7], [6, 3]]\n"
     ]
    }
   ],
   "source": [
    "n = 3\n",
    "k = 4\n",
    "m = 2\n",
    "# lists of lists\n",
    "def generate_mat(x,y):\n",
    "    mat = []\n",
    "    for i in range(x):\n",
    "        mat.append(random.sample(range(1,10),y))\n",
    "    return mat\n",
    "    \n",
    "matA = generate_mat(n,k)\n",
    "matB = generate_mat(k,m)\n",
    "print(matA)\n",
    "print(matB)"
   ]
  },
  {
   "cell_type": "code",
   "execution_count": 3,
   "id": "a786a030-23d4-4927-919c-94aac5866cce",
   "metadata": {},
   "outputs": [
    {
     "name": "stdout",
     "output_type": "stream",
     "text": [
      "[[120, 89], [94, 81], [86, 63]]\n",
      "3.5762786865234375e-05\n"
     ]
    }
   ],
   "source": [
    "def multiply(matA, matB):\n",
    "    n_row = len(matA) # n\n",
    "    n_col = len(matA[0]) # k\n",
    "    n2_row = len(matB) # k\n",
    "    n2_col = len(matB[0]) # m\n",
    "    \n",
    "    if(n_col != n2_row):\n",
    "        return -1\n",
    "    \n",
    "    res_mat = [[0 for i in range(n2_col)] for j in range(n_row)]\n",
    "    \n",
    "    for i in range(n_row):\n",
    "        for j in range(n2_col):\n",
    "            for k in range(n_col):\n",
    "                res_mat[i][j] += matA[i][k] * matB[k][j]\n",
    "\n",
    "    return res_mat         \n",
    "\n",
    "# matrix multiplication in python\n",
    "start_time = time.time()\n",
    "res_mat = multiply(matA, matB)\n",
    "end_time = time.time()\n",
    "print(res_mat)\n",
    "time_python = end_time - start_time\n",
    "print(time_python)"
   ]
  },
  {
   "cell_type": "code",
   "execution_count": 4,
   "id": "4adc9625-2f25-440f-9722-16e831d822d5",
   "metadata": {},
   "outputs": [
    {
     "name": "stdout",
     "output_type": "stream",
     "text": [
      "[[5 1 4 7]\n",
      " [4 7 6 9]\n",
      " [3 3 1 5]]\n",
      "[[1 9]\n",
      " [7 2]\n",
      " [3 7]\n",
      " [9 8]]\n",
      "[[ 87 131]\n",
      " [152 164]\n",
      " [ 72  80]]\n",
      "3.528594970703125e-05\n"
     ]
    }
   ],
   "source": [
    "# numpy array\n",
    "import numpy as np\n",
    "\n",
    "mat_A = np.random.randint(10, size=(n, k))\n",
    "mat_B = np.random.randint(10, size=(k, m))\n",
    "print(mat_A)\n",
    "print(mat_B)\n",
    "\n",
    "# matrix multiplication\n",
    "start_time = time.time()\n",
    "res_Mat = np.dot(mat_A, mat_B)\n",
    "end_time = time.time()\n",
    "print(res_Mat)\n",
    "time_numpy = end_time - start_time\n",
    "print(time_numpy)"
   ]
  },
  {
   "cell_type": "code",
   "execution_count": 5,
   "id": "301b1374-34e2-4c51-98b9-e10cfa5955a4",
   "metadata": {},
   "outputs": [
    {
     "data": {
      "text/plain": [
       "-4.76837158203125e-07"
      ]
     },
     "execution_count": 5,
     "metadata": {},
     "output_type": "execute_result"
    }
   ],
   "source": [
    "# difference in the time\n",
    "time_numpy - time_python"
   ]
  },
  {
   "cell_type": "raw",
   "id": "624ec988-da14-4352-8050-b5196134fe66",
   "metadata": {},
   "source": [
    "numpy is faster than lists of lists approach of python.\n",
    "Because numpy has vectorized operations "
   ]
  },
  {
   "cell_type": "markdown",
   "id": "eb83f4f7-24d1-43c2-bc8b-10866d16969b",
   "metadata": {},
   "source": [
    "Q.3"
   ]
  },
  {
   "cell_type": "markdown",
   "id": "93926795-5681-4ad9-866b-4ead9b90dd6d",
   "metadata": {},
   "source": [
    "Time complexity of finding median as given: O(n)"
   ]
  },
  {
   "cell_type": "code",
   "execution_count": 75,
   "id": "e1aeff2c-0fb2-472b-8947-a969188766a7",
   "metadata": {},
   "outputs": [
    {
     "name": "stdout",
     "output_type": "stream",
     "text": [
      "0.008059100000537\n",
      "0.005373101001168834\n",
      "0.01558246399872587\n"
     ]
    }
   ],
   "source": [
    "def median_sorted(arr,n):\n",
    "    sorted(arr)\n",
    "    if n%2 != 0:\n",
    "        return float(arr[int (n/2)])\n",
    "    \n",
    "    return float(( arr[int((n-1)/2)] + arr[int((n/2))]) /2 )\n",
    "\n",
    "def median_unsorted(arr,n):\n",
    "    temp = arr.copy()\n",
    "    highest = max(temp)\n",
    "    temp.remove(highest)\n",
    "    sec_highest = max(temp)\n",
    "    return (highest+sec_highest) / 2\n",
    "\n",
    "arr= random.sample(range(1,10000),500)\n",
    "n=500\n",
    "np_arr= np.random.randint(10000,size=500)\n",
    "\n",
    "sorted_method_time = timeit.timeit(lambda:median_sorted(arr,n),number=500)\n",
    "unsorted_method_time = timeit.timeit(lambda:median_unsorted(arr,n),number=500)\n",
    "numpy_time = timeit.timeit(lambda:np.median(arr,axis=0),number=500)\n",
    "print(sorted_method_time)\n",
    "print(unsorted_method_time)\n",
    "print(numpy_time)    "
   ]
  },
  {
   "cell_type": "markdown",
   "id": "cb3807d3-2be5-4968-bb4e-66f0e043dc50",
   "metadata": {},
   "source": [
    "Q.4"
   ]
  },
  {
   "cell_type": "raw",
   "id": "59aa9155-f103-4b49-a2be-17ccee6a7b39",
   "metadata": {},
   "source": [
    "(x^2)*y + (y^3)sin(x)\n",
    "\n",
    "1. gradient with respect to x\n",
    "    2*x*y + (y^3)cos(x)\n",
    "\n",
    "2. gradient with respect to y\n",
    "    x^2 + 3*(y^2)sin(x)\n",
    "\n",
    "gradient of {(x^2)*y + (y^3)sin(x)} = (2*x*y + (y^3)cos(x), x^2 + 3*(y^2)sin(x))"
   ]
  },
  {
   "cell_type": "markdown",
   "id": "e8a5a1ab-583e-4372-bbdb-d131c87e28b1",
   "metadata": {},
   "source": [
    "Q.5"
   ]
  },
  {
   "cell_type": "code",
   "execution_count": 6,
   "id": "4b5e6204-ad6f-42bd-ba3b-271fa89d12bc",
   "metadata": {},
   "outputs": [
    {
     "name": "stdout",
     "output_type": "stream",
     "text": [
      "Analytical Gradient:\n",
      "[array([ 85.45777318, -46.9193206 ]), array([109.45089835,  22.58805609]), array([61.92459774, 28.45578155])]\n",
      "\n",
      "JAX Gradient:\n",
      "[(Array(85.45778, dtype=float32, weak_type=True), Array(-46.91932, dtype=float32, weak_type=True)), (Array(109.4509, dtype=float32, weak_type=True), Array(22.588057, dtype=float32, weak_type=True)), (Array(61.9246, dtype=float32, weak_type=True), Array(28.455782, dtype=float32, weak_type=True))]\n"
     ]
    }
   ],
   "source": [
    "# Random values\n",
    "x = np.random.randint(1, 10, size=3)\n",
    "y = np.random.randint(1, 10, size=3)\n",
    "\n",
    "def f(x, y):\n",
    "    return ((x**2)*y) + ((y**3)*(jnp.sin(x)))\n",
    "\n",
    "# Gradient function\n",
    "grad_f = jax.grad(f, argnums=(0, 1))\n",
    "\n",
    "jax_gradient = []\n",
    "for i in range(len(x)):\n",
    "    a = float(x[i])\n",
    "    b = float(y[i])\n",
    "    jax_gradient.append(grad_f(a, b))\n",
    "\n",
    "# Analytical gradient\n",
    "analytical_gradient = []\n",
    "for i in range(len(x)):\n",
    "    analytical_gradient.append(np.array([2*x[i]*y[i] + y[i]**3*np.cos(x[i]), x[i]**2 + 3*y[i]**2*np.sin(x[i])]))\n",
    "\n",
    "# Compare \n",
    "print(\"Analytical Gradient:\")\n",
    "print(analytical_gradient)\n",
    "print(\"\\nJAX Gradient:\")\n",
    "print(jax_gradient)\n"
   ]
  },
  {
   "cell_type": "markdown",
   "id": "e13d2977-0b58-4419-bc72-e7f2e3fdc430",
   "metadata": {},
   "source": [
    "Q.7"
   ]
  },
  {
   "cell_type": "code",
   "execution_count": 22,
   "id": "11d3cea1-c413-4783-86cf-2b4850cfa06b",
   "metadata": {},
   "outputs": [
    {
     "data": {
      "text/plain": [
       "{2022: {'Branch 1': {1: {'Roll Number': 1,\n",
       "    'Name': 'N',\n",
       "    'Marks': {'Maths': 100, 'English': 70}}},\n",
       "  'Branch 2': {}},\n",
       " 2023: {'Branch 1': {}, 'Branch 2': {}},\n",
       " 2024: {'Branch 1': {}, 'Branch 2': {}},\n",
       " 2025: {'Branch 1': {}, 'Branch 2': {}}}"
      ]
     },
     "execution_count": 22,
     "metadata": {},
     "output_type": "execute_result"
    }
   ],
   "source": [
    "dict = {\n",
    "    2022: {\n",
    "        'Branch 1': {\n",
    "            1: {\n",
    "               'Roll Number': 1,\n",
    "                'Name': 'N',\n",
    "                'Marks': {\n",
    "                    'Maths': 100,\n",
    "                    'English': 70\n",
    "                }\n",
    "            }\n",
    "        },\n",
    "        'Branch 2': {}\n",
    "    } ,\n",
    "    2023:{\n",
    "        'Branch 1': {},\n",
    "        'Branch 2': {}\n",
    "    },\n",
    "    2024:{\n",
    "        'Branch 1': {},\n",
    "        'Branch 2': {}\n",
    "    },\n",
    "    2025:{\n",
    "        'Branch 1': {},\n",
    "        'Branch 2': {}\n",
    "    }\n",
    "}\n",
    "dict"
   ]
  },
  {
   "cell_type": "markdown",
   "id": "b7662a39-4e35-49aa-8cb5-7846ff17b271",
   "metadata": {},
   "source": [
    "Q.8"
   ]
  },
  {
   "cell_type": "code",
   "execution_count": 18,
   "id": "084974fd-ebc6-4214-a8ad-eab89084dab1",
   "metadata": {},
   "outputs": [
    {
     "name": "stdout",
     "output_type": "stream",
     "text": [
      "2022\n",
      "    Branch 1\n",
      "        Roll Number: 1, Name: N, Marks: {'Maths': 100, 'English': 70}\n",
      "    Branch 2\n",
      "2023\n",
      "    Branch 1\n",
      "    Branch 2\n",
      "2024\n",
      "    Branch 1\n",
      "    Branch 2\n",
      "2025\n",
      "    Branch 1\n",
      "    Branch 2\n"
     ]
    }
   ],
   "source": [
    "class Student:\n",
    "    def __init__(self, roll_number, name):\n",
    "        self.roll_number = roll_number\n",
    "        self.name = name\n",
    "        self.marks = {}\n",
    "\n",
    "    def add_subject_mark(self, subject, mark):\n",
    "        self.marks[subject] = mark\n",
    "\n",
    "\n",
    "class Branch:\n",
    "    def __init__(self, name):\n",
    "        self.name = name\n",
    "        self.students = []\n",
    "\n",
    "    def add_student(self, student):\n",
    "        self.students.append(student)\n",
    "\n",
    "\n",
    "class Year:\n",
    "    def __init__(self, year):\n",
    "        self.year = year\n",
    "        self.branches = []\n",
    "\n",
    "    def add_branch(self, branch):\n",
    "        self.branches.append(branch)\n",
    "\n",
    "\n",
    "# instances of given example\n",
    "year_2022 = Year(2022)\n",
    "\n",
    "branch_1_2022 = Branch(\"Branch 1\")\n",
    "student_1_2022 = Student(1, \"N\")\n",
    "student_1_2022.add_subject_mark(\"Maths\", 100)\n",
    "student_1_2022.add_subject_mark(\"English\", 70)\n",
    "branch_1_2022.add_student(student_1_2022)\n",
    "\n",
    "branch_2_2022 = Branch(\"Branch 2\")\n",
    "\n",
    "year_2022.add_branch(branch_1_2022)\n",
    "year_2022.add_branch(branch_2_2022)\n",
    "\n",
    "year_2023 = Year(2023)\n",
    "branch_1_2023 = Branch(\"Branch 1\")\n",
    "branch_2_2023 = Branch(\"Branch 2\")\n",
    "year_2023.add_branch(branch_1_2023)\n",
    "year_2023.add_branch(branch_2_2023)\n",
    "\n",
    "year_2024 = Year(2024)\n",
    "branch_1_2024 = Branch(\"Branch 1\")\n",
    "branch_2_2024 = Branch(\"Branch 2\")\n",
    "year_2024.add_branch(branch_1_2024)\n",
    "year_2024.add_branch(branch_2_2024)\n",
    "\n",
    "year_2025 = Year(2025)\n",
    "branch_1_2025 = Branch(\"Branch 1\")\n",
    "branch_2_2025 = Branch(\"Branch 2\")\n",
    "year_2025.add_branch(branch_1_2025)\n",
    "year_2025.add_branch(branch_2_2025)\n",
    "\n",
    "# Creating a database as a list of year objects\n",
    "database = [year_2022, year_2023, year_2024, year_2025]\n",
    "\n",
    "# Accessing data\n",
    "for year in database:\n",
    "    print(year.year)\n",
    "    for branch in year.branches:\n",
    "        print(f\"    {branch.name}\")\n",
    "        for student in branch.students:\n",
    "            print(f\"        Roll Number: {student.roll_number}, Name: {student.name}, Marks: {student.marks}\")\n"
   ]
  },
  {
   "cell_type": "markdown",
   "id": "4a494ab2-5c22-4a62-97e5-8560ed48ffb1",
   "metadata": {},
   "source": [
    "Q.9"
   ]
  },
  {
   "cell_type": "code",
   "execution_count": 58,
   "id": "af3282fd-cf2c-4264-9bd3-48222cd01f8d",
   "metadata": {},
   "outputs": [],
   "source": [
    "num_steps = int((100.0 - 0.5) / 0.5) + 1\n",
    "x_values = np.linspace(0.5, 100.0, num_steps)\n",
    "\n",
    "y_x= x_values\n",
    "y_x2 = (x_values)**2\n",
    "y_x3 = (x_values**3)*0.001\n",
    "y_x4 = np.sin(x_values)\n",
    "y_x5 = (np.sin(x_values))/x_values\n",
    "y_x6 = np.log(x_values)\n",
    "y_x7 = np.exp(x_values)"
   ]
  },
  {
   "cell_type": "code",
   "execution_count": 59,
   "id": "7db04f70-ea0f-45bd-902f-9bc3c604eea0",
   "metadata": {},
   "outputs": [
    {
     "data": {
      "image/png": "[encoded data removed]",
      "text/plain": [
       "<Figure size 1000x600 with 1 Axes>"
      ]
     },
     "metadata": {},
     "output_type": "display_data"
    }
   ],
   "source": [
    "plt.figure(figsize=(10, 6))\n",
    "\n",
    "plt.plot(x_values,y_x,label='y=x')\n",
    "plt.plot(x_values,y_x4,label='y=sin(x)')\n",
    "plt.plot(x_values,y_x5,label='y=sin(x)/x')\n",
    "\n",
    "plt.xlabel('x')\n",
    "plt.ylabel('y')\n",
    "plt.title('Plot')\n",
    "plt.legend()\n",
    "\n",
    "plt.grid(True)\n",
    "plt.show()\n"
   ]
  },
  {
   "cell_type": "code",
   "execution_count": 60,
   "id": "8f697c0b-6a8c-4251-bb97-8f684e59016f",
   "metadata": {},
   "outputs": [
    {
     "data": {
      "image/png": "[encoded data removed]",
      "text/plain": [
       "<Figure size 1000x600 with 1 Axes>"
      ]
     },
     "metadata": {},
     "output_type": "display_data"
    }
   ],
   "source": [
    "plt.figure(figsize=(10, 6))\n",
    "\n",
    "plt.plot(x_values,y_x2,label='y=x^2')\n",
    "plt.plot(x_values,y_x3,label='y=x^3/100')\n",
    "plt.plot(x_values,y_x6,label='y=log(x)')\n",
    "\n",
    "plt.xlabel('x')\n",
    "plt.ylabel('y')\n",
    "plt.title('Plot')\n",
    "plt.legend()\n",
    "\n",
    "plt.grid(True)\n",
    "plt.show()\n"
   ]
  },
  {
   "cell_type": "code",
   "execution_count": 61,
   "id": "f19d00d5-7f67-4147-9d35-d0e37a47638b",
   "metadata": {},
   "outputs": [
    {
     "data": {
      "image/png": "[encoded data removed]",
      "text/plain": [
       "<Figure size 1000x600 with 1 Axes>"
      ]
     },
     "metadata": {},
     "output_type": "display_data"
    }
   ],
   "source": [
    "plt.figure(figsize=(10, 6))\n",
    "\n",
    "plt.plot(x_values,y_x7,label='y=e^x')\n",
    "\n",
    "plt.xlabel('x')\n",
    "plt.ylabel('y')\n",
    "plt.title('Plot')\n",
    "plt.legend()\n",
    "\n",
    "plt.grid(True)\n",
    "plt.show()\n"
   ]
  },
  {
   "cell_type": "markdown",
   "id": "bd06855f-286f-44dc-8347-ba55d900fa52",
   "metadata": {},
   "source": [
    "Q.10"
   ]
  },
  {
   "cell_type": "code",
   "execution_count": 30,
   "id": "1101eded-2c88-41c4-bedf-642017a98973",
   "metadata": {},
   "outputs": [
    {
     "name": "stdout",
     "output_type": "stream",
     "text": [
      "           a         b         c         d         e\n",
      "0   1.374540  1.950714  1.731994  1.598658  1.156019\n",
      "1   1.155995  1.058084  1.866176  1.601115  1.708073\n",
      "2   1.020584  1.969910  1.832443  1.212339  1.181825\n",
      "3   1.183405  1.304242  1.524756  1.431945  1.291229\n",
      "4   1.611853  1.139494  1.292145  1.366362  1.456070\n",
      "5   1.785176  1.199674  1.514234  1.592415  1.046450\n",
      "6   1.607545  1.170524  1.065052  1.948886  1.965632\n",
      "7   1.808397  1.304614  1.097672  1.684233  1.440152\n",
      "8   1.122038  1.495177  1.034389  1.909320  1.258780\n",
      "9   1.662522  1.311711  1.520068  1.546710  1.184854\n",
      "10  1.969585  1.775133  1.939499  1.894827  1.597900\n",
      "11  1.921874  1.088493  1.195983  1.045227  1.325330\n",
      "12  1.388677  1.271349  1.828738  1.356753  1.280935\n",
      "13  1.542696  1.140924  1.802197  1.074551  1.986887\n",
      "14  1.772245  1.198716  1.005522  1.815461  1.706857\n",
      "15  1.729007  1.771270  1.074045  1.358466  1.115869\n",
      "16  1.863103  1.623298  1.330898  1.063558  1.310982\n",
      "17  1.325183  1.729606  1.637557  1.887213  1.472215\n",
      "18  1.119594  1.713245  1.760785  1.561277  1.770967\n",
      "19  1.493796  1.522733  1.427541  1.025419  1.107891\n",
      "highest standard deviatioin: c\n",
      "lowest mean row: 11\n"
     ]
    }
   ],
   "source": [
    "np.random.seed(42)\n",
    "mat = np.random.uniform(1,2,size=(20,5))\n",
    "\n",
    "df = pd.DataFrame(mat, columns=['a', 'b', 'c', 'd', 'e'])\n",
    "\n",
    "print(df)\n",
    "\n",
    "high_sd_col = df.std().idxmax()\n",
    "print('highest standard deviatioin:' , high_sd_col)\n",
    "\n",
    "low_mean_row = df.mean(axis=1).idxmin()\n",
    "print('lowest mean row:',low_mean_row)"
   ]
  },
  {
   "cell_type": "markdown",
   "id": "64032a39-9a16-4b69-8df9-ad5b02189510",
   "metadata": {},
   "source": [
    "Q.11"
   ]
  },
  {
   "cell_type": "code",
   "execution_count": 35,
   "id": "589d8832-10f7-401a-91da-e6f4c175873c",
   "metadata": {},
   "outputs": [
    {
     "name": "stdout",
     "output_type": "stream",
     "text": [
      "           a         b         c         d         e         f    g\n",
      "0   1.374540  1.950714  1.731994  1.598658  1.156019  7.811925  LT8\n",
      "1   1.155995  1.058084  1.866176  1.601115  1.708073  7.389442  LT8\n",
      "2   1.020584  1.969910  1.832443  1.212339  1.181825  7.217101  LT8\n",
      "3   1.183405  1.304242  1.524756  1.431945  1.291229  6.735577  LT8\n",
      "4   1.611853  1.139494  1.292145  1.366362  1.456070  6.865923  LT8\n",
      "5   1.785176  1.199674  1.514234  1.592415  1.046450  7.137949  LT8\n",
      "6   1.607545  1.170524  1.065052  1.948886  1.965632  7.757638  LT8\n",
      "7   1.808397  1.304614  1.097672  1.684233  1.440152  7.335069  LT8\n",
      "8   1.122038  1.495177  1.034389  1.909320  1.258780  6.819704  LT8\n",
      "9   1.662522  1.311711  1.520068  1.546710  1.184854  7.225866  LT8\n",
      "10  1.969585  1.775133  1.939499  1.894827  1.597900  9.176944  GT8\n",
      "11  1.921874  1.088493  1.195983  1.045227  1.325330  6.576907  LT8\n",
      "12  1.388677  1.271349  1.828738  1.356753  1.280935  7.126452  LT8\n",
      "13  1.542696  1.140924  1.802197  1.074551  1.986887  7.547255  LT8\n",
      "14  1.772245  1.198716  1.005522  1.815461  1.706857  7.498801  LT8\n",
      "15  1.729007  1.771270  1.074045  1.358466  1.115869  7.048657  LT8\n",
      "16  1.863103  1.623298  1.330898  1.063558  1.310982  7.191840  LT8\n",
      "17  1.325183  1.729606  1.637557  1.887213  1.472215  8.051775  GT8\n",
      "18  1.119594  1.713245  1.760785  1.561277  1.770967  7.925868  LT8\n",
      "19  1.493796  1.522733  1.427541  1.025419  1.107891  6.577380  LT8\n",
      "LT8_cnt:  18\n",
      "standard deviation lt8:  0.4025886500663061\n",
      "standard deviation gt8:  0.7956146881961926\n"
     ]
    }
   ],
   "source": [
    "df['f'] = df[['a', 'b', 'c', 'd', 'e']].sum(axis=1)\n",
    "\n",
    "df['g'] = np.where(df['f'] < 8, 'LT8', 'GT8')\n",
    "\n",
    "print(df)\n",
    "\n",
    "LT8_cnt = (df['g'] == 'LT8').sum()\n",
    "print('LT8_cnt: ', LT8_cnt)\n",
    "\n",
    "std_lt8 = df.loc[df['g'] == 'LT8', 'f'].std()\n",
    "std_gt8 = df.loc[df['g'] == 'GT8', 'f'].std()\n",
    "\n",
    "print('standard deviation lt8: ', std_lt8)\n",
    "print('standard deviation gt8: ', std_gt8)\n"
   ]
  },
  {
   "cell_type": "markdown",
   "id": "86585aa9-6a84-48b2-8fa6-6745c8e3447e",
   "metadata": {},
   "source": [
    "Q.12"
   ]
  },
  {
   "cell_type": "raw",
   "id": "f8880ffe-0c9a-4708-9739-f69946a7d588",
   "metadata": {},
   "source": [
    "Bradcasting helps to use binary ufuncs between different diemensions array"
   ]
  },
  {
   "cell_type": "code",
   "execution_count": 79,
   "id": "ce49b87e-7848-4e75-8c69-eb51bdd9cfcf",
   "metadata": {},
   "outputs": [
    {
     "name": "stdout",
     "output_type": "stream",
     "text": [
      "(4, 4)\n",
      "(4,)\n",
      "(4, 4)\n"
     ]
    }
   ],
   "source": [
    "x = np.random.randint(20,size=(4,4))\n",
    "y = np.random.randint(20,size=4)\n",
    "print(x.shape)\n",
    "print(y.shape)\n",
    "\n",
    "print((x+y).shape) "
   ]
  },
  {
   "cell_type": "markdown",
   "id": "e1092aeb-d552-4c16-96e8-9a04c926a2e1",
   "metadata": {},
   "source": [
    "Q.13"
   ]
  },
  {
   "cell_type": "code",
   "execution_count": 67,
   "id": "4226d0dd-1a44-4042-91c5-c1048a231d04",
   "metadata": {},
   "outputs": [
    {
     "name": "stdout",
     "output_type": "stream",
     "text": [
      "1\n",
      "1\n"
     ]
    }
   ],
   "source": [
    "def min_idx(arr):\n",
    "    min_index = 0;\n",
    "    for i in range(len(arr)):\n",
    "        if arr[i] < arr[min_index] :\n",
    "            min_index = i\n",
    "    \n",
    "    return min_index\n",
    "\n",
    "arr = np.array([4,-2,3,1,5])\n",
    "print(np.argmin(arr))\n",
    "print(min_idx(arr))\n"
   ]
  }
 ],
 "metadata": {
  "kernelspec": {
   "display_name": "Python 3 (ipykernel)",
   "language": "python",
   "name": "python3"
  },
  "language_info": {
   "codemirror_mode": {
    "name": "ipython",
    "version": 3
   },
   "file_extension": ".py",
   "mimetype": "text/x-python",
   "name": "python",
   "nbconvert_exporter": "python",
   "pygments_lexer": "ipython3",
   "version": "3.10.12"
  }
 },
 "nbformat": 4,
 "nbformat_minor": 5
}
